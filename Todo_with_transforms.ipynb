{
  "nbformat": 4,
  "nbformat_minor": 0,
  "metadata": {
    "colab": {
      "name": "Todo with transforms.ipynb",
      "provenance": [],
      "collapsed_sections": []
    },
    "kernelspec": {
      "name": "python3",
      "display_name": "Python 3"
    },
    "accelerator": "GPU"
  },
  "cells": [
    {
      "cell_type": "code",
      "metadata": {
        "id": "XXyfyKvXAGk8",
        "colab_type": "code",
        "colab": {
          "base_uri": "https://localhost:8080/",
          "height": 122
        },
        "outputId": "1edf22bd-4fc5-4a0a-c33e-e50dd8dd7592"
      },
      "source": [
        "from google.colab import drive\n",
        "drive.mount('/content/drive')"
      ],
      "execution_count": null,
      "outputs": [
        {
          "output_type": "stream",
          "text": [
            "Go to this URL in a browser: https://accounts.google.com/o/oauth2/auth?client_id=947318989803-6bn6qk8qdgf4n4g3pfee6491hc0brc4i.apps.googleusercontent.com&redirect_uri=urn%3aietf%3awg%3aoauth%3a2.0%3aoob&response_type=code&scope=email%20https%3a%2f%2fwww.googleapis.com%2fauth%2fdocs.test%20https%3a%2f%2fwww.googleapis.com%2fauth%2fdrive%20https%3a%2f%2fwww.googleapis.com%2fauth%2fdrive.photos.readonly%20https%3a%2f%2fwww.googleapis.com%2fauth%2fpeopleapi.readonly\n",
            "\n",
            "Enter your authorization code:\n",
            "··········\n",
            "Mounted at /content/drive\n"
          ],
          "name": "stdout"
        }
      ]
    },
    {
      "cell_type": "code",
      "metadata": {
        "id": "DCTObWVdBPXC",
        "colab_type": "code",
        "colab": {}
      },
      "source": [
        "import zipfile\n",
        "with zipfile.ZipFile('/content/drive/My Drive/Todo/dataset_all.zip') as z:\n",
        "  z.extractall(\".\")\n",
        "    "
      ],
      "execution_count": null,
      "outputs": []
    },
    {
      "cell_type": "code",
      "metadata": {
        "id": "Xiza4LyLB-9w",
        "colab_type": "code",
        "colab": {
          "base_uri": "https://localhost:8080/",
          "height": 34
        },
        "outputId": "52e1141a-9498-4b2a-f2b3-cd11b3854eb1"
      },
      "source": [
        "import os\n",
        "os.listdir('/content/dataset')"
      ],
      "execution_count": null,
      "outputs": [
        {
          "output_type": "execute_result",
          "data": {
            "text/plain": [
              "['words', 'words.txt', '.DS_Store']"
            ]
          },
          "metadata": {
            "tags": []
          },
          "execution_count": 3
        }
      ]
    },
    {
      "cell_type": "code",
      "metadata": {
        "id": "hMjry4AieWNZ",
        "colab_type": "code",
        "colab": {}
      },
      "source": [
        "from __future__ import division\n",
        "from __future__ import print_function\n",
        "from itertools import groupby\n",
        "import numpy as np\n",
        "\n",
        "\n",
        "def ctcBestPath(mat, classes):\n",
        "    \"implements best path decoding as shown by Graves (Dissertation, p63)\"\n",
        "\n",
        "    # get char indices along best path\n",
        "    best_path = np.argmax(mat, axis=1)\n",
        "    #print('bp', best_path)\n",
        "    # collapse best path (using itertools.groupby), map to chars, join char list to string\n",
        "    blank_idx = 0\n",
        "    best_chars_collapsed = [classes[k] for k, _ in groupby(best_path) if k != blank_idx]\n",
        "    res = ''.join(best_chars_collapsed)\n",
        "    return res"
      ],
      "execution_count": null,
      "outputs": []
    },
    {
      "cell_type": "code",
      "metadata": {
        "id": "4Sp1y8ooed0-",
        "colab_type": "code",
        "colab": {}
      },
      "source": [
        "import torch\n",
        "import cv2 as cv\n",
        "import numpy as np\n",
        "#from CTCBestPath import ctcBestPath\n",
        "\n",
        "class ImagePreprocess:\n",
        "    def __init__(self):\n",
        "        pass\n",
        "\n",
        "    def resize_image(self, image, image_size):\n",
        "        # transpose vertical Todo image\n",
        "        #image = cv.transpose(image)\n",
        "\n",
        "\n",
        "        # increase contrast\n",
        "        pxmin = np.min(image)\n",
        "        pxmax = np.max(image)\n",
        "        imgContrast = (image - pxmin) / (pxmax - pxmin) * 255\n",
        "\n",
        "        # create target image and copy sample image into it\n",
        "        (wt, ht) = image_size\n",
        "        #(h, w, _) = image.shape - for color image case\n",
        "        (h, w) = image.shape\n",
        "        fx = w / wt\n",
        "        fy = h / ht\n",
        "        f = max(fx, fy)\n",
        "        newSize = (max(min(wt, int(w / f)), 1), max(min(ht, int(h / f)), 1)) # scale according to f (result at least 1 and at most wt or ht)\n",
        "        image = cv.resize(imgContrast, newSize)\n",
        "    \n",
        "        target = np.ones([ht, wt]) * 255\n",
        "        target[0:newSize[1], 0:newSize[0]] = image\n",
        "        #target = np.ones([ht, wt, 3]) * 255\n",
        "        #target[0:newSize[1], 0:newSize[0], :] = image\n",
        "        image = cv.transpose(target)\n",
        "\n",
        "      \n",
        "        return image\n",
        "\n",
        "\n",
        "class LabelConverter:\n",
        "    def __init__(self, char_set, ignore_case=False):\n",
        "        self.char_set = char_set\n",
        "        if ignore_case:\n",
        "            char_set = char_set.lower()\n",
        "        \n",
        "    def encode_text(self, text):\n",
        "        \"puts ground truth texts into tensor for ctc_loss and returns lenghts of labels\"\n",
        "\n",
        "        length = []\n",
        "        result = []\n",
        "        for item in text:            \n",
        "            #item = item.decode('utf-8','strict')\n",
        "            length.append(len(item))\n",
        "            r = []\n",
        "            for char in item:\n",
        "                index = self.char_set.index(char)\n",
        "                # result.append(index)\n",
        "                r.append(index)\n",
        "            result.append(r)\n",
        "        \n",
        "        max_len = 0\n",
        "        for r in result:\n",
        "            if len(r) > max_len:\n",
        "                max_len = len(r)\n",
        "        \n",
        "        result_temp = []\n",
        "        for r in result:\n",
        "            for _ in range(max_len - len(r)):\n",
        "                r.append(0)\n",
        "            result_temp.append(r)\n",
        "\n",
        "        text = result_temp\n",
        "        return (torch.LongTensor(text), torch.LongTensor(length))\n",
        "\n",
        "    def decode_text(self, encoded_text):\n",
        "        \"extract texts from output of CTC decoder\"\n",
        "\n",
        "        text = []\n",
        "        #print(\"Encoded size:\", encoded_text.shape)\n",
        "        for encoded in encoded_text:\n",
        "            text.append(ctcBestPath(encoded, self.char_set))\n",
        "        return text\n",
        "\n",
        "\n"
      ],
      "execution_count": null,
      "outputs": []
    },
    {
      "cell_type": "code",
      "metadata": {
        "id": "G-pJKGpBein7",
        "colab_type": "code",
        "colab": {}
      },
      "source": [
        "from torch.utils.data import Dataset\n",
        "import cv2 as cv\n",
        "#from utils import LabelConverter, ImagePreprocess\n",
        "\n",
        "\n",
        "\n",
        "class TodoDataset(Dataset):\n",
        "    def __init__(self, file_path, image_size, transform=None):\n",
        "        \"\"\" init dataset \"\"\"\n",
        "        self.image_size = image_size\n",
        "        self.samples = []\n",
        "        self.file_path = file_path\n",
        "        self.char_set = ''\n",
        "        self._init_dataset()\n",
        "        self.preprocessor = ImagePreprocess()\n",
        "        self.transform = transform\n",
        "        \n",
        "\n",
        "    def __len__(self):\n",
        "        \"\"\" returns size of dataset \"\"\"\n",
        "        return len(self.samples)\n",
        "\n",
        "    def __getitem__(self, idx):\n",
        "        \"\"\" returns element by index \"\"\"\n",
        "        image = cv.imread(self.samples[idx][0], cv.IMREAD_GRAYSCALE)\n",
        "        if self.transform is not None:\n",
        "            image = self.transform(image)\n",
        "\n",
        "        image = self.preprocessor.resize_image(np.float32(image), self.image_size)\n",
        "        gt_text = self.samples[idx][1]\n",
        "        return image, gt_text\n",
        "    \n",
        "    def _init_dataset(self):\n",
        "        \"\"\" loads file paths and labels \"\"\"\n",
        "        chars = set()\n",
        "        with open(self.file_path + \"/words.txt\", 'r') as input_file:\n",
        "            for line in input_file:\n",
        "                line_split = line.strip().split('\\t')\n",
        "                file_name = self.file_path+\"/words/\"+line_split[1]\n",
        "                gt_text = line_split[0]\n",
        "                chars = chars.union(set(list(gt_text)))\n",
        "                self.samples.append((file_name, gt_text))\n",
        "        input_file.close()\n",
        "\n",
        "        self.char_set = sorted(list(chars))\n",
        "\n",
        "\n",
        "    "
      ],
      "execution_count": null,
      "outputs": []
    },
    {
      "cell_type": "code",
      "metadata": {
        "id": "8NGUmtsUeqhA",
        "colab_type": "code",
        "colab": {}
      },
      "source": [
        "import torch\n",
        "\n",
        "class LayersCNN(torch.nn.Module):\n",
        "    \"\"\" CNN layers of net \"\"\"\n",
        "    def __init__(self, activation='relu', pooling='max'):\n",
        "        super(LayersCNN, self).__init__()\n",
        "\n",
        "        if activation == 'tanh':\n",
        "            activation_function = torch.nn.Tanh()\n",
        "        elif activation == 'relu':\n",
        "            activation_function  = torch.nn.ReLU()\n",
        "        else:\n",
        "            raise NotImplementedError\n",
        "\n",
        "        kernel_size = [5, 5, 3, 3, 3]\n",
        "        features_num = [1, 32, 64, 128, 128, 256]\n",
        "        pooling_ksize = pooling_stride = [(2,2), (2,2), (2,2), (2,1), (2,1)]\n",
        "\n",
        "        self.rnn_input = features_num[-1]\n",
        "\n",
        "        self.conv1 = torch.nn.Conv2d(in_channels=features_num[0], out_channels=features_num[1], kernel_size=kernel_size[0], padding=2)\n",
        "        self.act1 = activation_function\n",
        "        \n",
        "        if pooling == 'avg':\n",
        "            self.pool1 = torch.nn.AvgPool2d(kernel_size=pooling_ksize[0], stride=pooling_stride[0])\n",
        "        elif pooling == 'max':\n",
        "            self.pool1 = torch.nn.MaxPool2d(kernel_size=pooling_ksize[0], stride=pooling_stride[0])\n",
        "        else:\n",
        "            raise NotImplementedError\n",
        "        \n",
        "        self.conv2 = torch.nn.Conv2d(in_channels=features_num[1], out_channels=features_num[2], kernel_size=kernel_size[1], padding=2)\n",
        "        self.act2 = activation_function\n",
        "\n",
        "        if pooling == 'avg':\n",
        "            self.pool2 = torch.nn.AvgPool2d(kernel_size=pooling_ksize[1], stride=pooling_stride[1])\n",
        "        elif pooling == 'max':\n",
        "            self.pool2 = torch.nn.MaxPool2d(kernel_size=pooling_ksize[1], stride=pooling_stride[1])\n",
        "        else:\n",
        "            raise NotImplementedError\n",
        "\n",
        "        self.conv3 = torch.nn.Conv2d(in_channels=features_num[2], out_channels=features_num[3], kernel_size=kernel_size[2], padding=1)\n",
        "        self.act3 = activation_function\n",
        "\n",
        "        if pooling == 'avg':\n",
        "            self.pool3 = torch.nn.AvgPool2d(kernel_size=pooling_ksize[2], stride=pooling_stride[2])\n",
        "        elif pooling == 'max':\n",
        "            self.pool3 = torch.nn.MaxPool2d(kernel_size=pooling_ksize[2], stride=pooling_stride[2])\n",
        "        else:\n",
        "            raise NotImplementedError\n",
        "\n",
        "        self.conv4 = torch.nn.Conv2d(in_channels=features_num[3], out_channels=features_num[4], kernel_size=kernel_size[3], padding=1)\n",
        "        self.act4 = activation_function\n",
        "\n",
        "        if pooling == 'avg':\n",
        "            self.pool4 = torch.nn.AvgPool2d(kernel_size=pooling_ksize[3], stride=pooling_stride[3])\n",
        "        elif pooling == 'max':\n",
        "            self.pool4 = torch.nn.MaxPool2d(kernel_size=pooling_ksize[3], stride=pooling_stride[3])\n",
        "        else:\n",
        "            raise NotImplementedError\n",
        "\n",
        "        self.conv5 = torch.nn.Conv2d(in_channels=features_num[4], out_channels=features_num[5], kernel_size=kernel_size[4], padding=1)\n",
        "        self.act5 = activation_function\n",
        "        \n",
        "        if pooling == 'avg':\n",
        "            self.pool5 = torch.nn.AvgPool2d(kernel_size=pooling_ksize[4], stride=pooling_stride[4])\n",
        "        elif pooling == 'max':\n",
        "            self.pool5 = torch.nn.MaxPool2d(kernel_size=pooling_ksize[4], stride=pooling_stride[4])\n",
        "        else:\n",
        "            raise NotImplementedError\n",
        "        \n",
        "    def forward(self, x):\n",
        "        x = x.unsqueeze(1)\n",
        "        # input size: batch_size * channels * img_width * img_height. Example% 10x3x32x192\n",
        "        x = self.conv1(x)\n",
        "        x = self.act1(x)\n",
        "        x = self.pool1(x)\n",
        "        # output size: 10x32x16x96\n",
        "        x = self.conv2(x)\n",
        "        x = self.act2(x)\n",
        "        x = self.pool2(x)\n",
        "        # output size: 10x64x8x48\n",
        "        x = self.conv3(x)\n",
        "        x = self.act3(x)\n",
        "        x = self.pool3(x)\n",
        "        # output size: 10x128x4x24\n",
        "        x = self.conv4(x)\n",
        "        x = self.act4(x)\n",
        "        x = self.pool4(x)\n",
        "        # output size: 10x128x2x24\n",
        "        x = self.conv5(x)\n",
        "        x = self.act5(x)\n",
        "        x = self.pool5(x)\n",
        "        # output size: 10x256x1x24 -> 256 features and 24 timesteps\n",
        "        return x\n",
        "\n",
        "class LayersRNN(torch.nn.Module):\n",
        "    \"\"\" RNN layers of net \"\"\"\n",
        "    def __init__(self, num_in, num_hidden, num_out):\n",
        "        super(LayersRNN, self).__init__()\n",
        "\n",
        "        self.rnn = torch.nn.LSTM(num_in, num_hidden, bidirectional=True)\n",
        "        self.embedding = torch.nn.Linear(num_hidden * 2, num_out)\n",
        "\n",
        "    def forward(self, input):\n",
        "        recurrent, _ = self.rnn(input)\n",
        "        T, b, h = recurrent.size() # size of LSTM output: [seq_len, batch, 2(bidirectional) * hidden_size]\n",
        "        t_rec = recurrent.view(T * b, h) # resize for Linear embedding layer\n",
        "\n",
        "        output = self.embedding(t_rec)  # size of Linear output: [T * b, num_out]\n",
        "        output = output.view(T, b, -1)\n",
        "\n",
        "        return output\n",
        "\n",
        "\n",
        "class Model(torch.nn.Module):\n",
        "    \"\"\" NN Model for Todo Bicig recognition \"\"\"\n",
        "    def __init__(self, rnn_hidden, num_char):\n",
        "        super(Model, self).__init__()\n",
        "        self.cnn = LayersCNN()\n",
        "        self.rnn = torch.nn.Sequential(\n",
        "            LayersRNN(self.cnn.rnn_input, rnn_hidden, rnn_hidden),\n",
        "            LayersRNN(rnn_hidden, rnn_hidden, num_char))\n",
        "        \n",
        "    def forward(self, x):\n",
        "        cnn_out = self.cnn(x) # cnn output size: 10x256x1x24 -> 256 features and 24 time-steps\n",
        "        cnn_out = cnn_out.squeeze(2) #remove dimension with 1 width -> 10x256x24\n",
        "        cnn_out = cnn_out.permute(2, 0, 1)  # change dimension to 24x10x256 (timesteps x batch_size x channels)\n",
        "        rnn_out = self.rnn(cnn_out) # rnn output size: 24x10x41, where 40 is charset lenght + 1 blank\n",
        "        \n",
        "        # add log_softmax to converge output\n",
        "        output = torch.nn.functional.log_softmax(rnn_out, dim=2) #size: 24x10x41\n",
        "        \n",
        "        return output"
      ],
      "execution_count": null,
      "outputs": []
    },
    {
      "cell_type": "code",
      "metadata": {
        "id": "OU-zOZ6ueu0K",
        "colab_type": "code",
        "colab": {}
      },
      "source": [
        "from torch.utils.data import DataLoader, random_split\n",
        "from torchvision import transforms\n",
        "import torch\n",
        "#from TodoDataset import TodoDataset\n",
        "#from utils import LabelConverter\n",
        "#from Model import Model\n",
        "from tqdm import tqdm\n",
        "import editdistance\n",
        "import random\n",
        "\n",
        "random.seed(42)\n",
        "np.random.seed(42)\n",
        "torch.manual_seed(42)\n",
        "torch.cuda.manual_seed(42)\n",
        "torch.backends.cudnn.deterministic = True\n",
        "\n",
        "l_rate = 5.0e-4\n",
        "steps = 10\n",
        "n_epoch = 60\n",
        "gamma = 0.5\n",
        "\n",
        "def train_model(model, loss, optimizer, scheduler, num_epochs, train_dataloader, val_dataloader, converter):\n",
        "    \n",
        "    train_loss = []\n",
        "    val_loss = []\n",
        "    char_error = []\n",
        "    word_acc = []\n",
        "\n",
        "    device = torch.device(\"cuda:0\" if torch.cuda.is_available() else \"cpu\")\n",
        "    model.to(device)\n",
        "    for epoch in range(num_epochs):\n",
        "        print('Epoch {}/{}:'.format(epoch, num_epochs - 1), flush=True)\n",
        "\n",
        "        # Each epoch has a training and validation phase\n",
        "        for phase in ['train', 'val']:\n",
        "            if phase == 'train':\n",
        "                dataloader = train_dataloader\n",
        "                scheduler.step()\n",
        "                model.train()  # Set model to training mode\n",
        "            else:\n",
        "                dataloader = val_dataloader\n",
        "                model.eval()   # Set model to evaluate mode\n",
        "\n",
        "            running_loss = 0.\n",
        "\n",
        "            # character/word recognition params\n",
        "            char_err = 0 \n",
        "            char_total = 0 \n",
        "            word_ok = 0 \n",
        "            word_total = 0\n",
        "\n",
        "            # Iterate over data.\n",
        "            for inputs, texts in tqdm(dataloader):\n",
        "                \n",
        "                #inputs = inputs.permute(0, 3, 1, 2).float().to(device)\n",
        "                inputs = inputs.float().to(device)\n",
        "                #print(inputs.dtype)\n",
        "                labels, lenghts = converter.encode_text(texts)\n",
        "                labels = labels.to(device)\n",
        "                #lenghts = lenghts.to(device)\n",
        "                batch_size = inputs.size(0)\n",
        "\n",
        "                optimizer.zero_grad()\n",
        "\n",
        "                # forward and backward\n",
        "                with torch.set_grad_enabled(phase == 'train'):\n",
        "                    preds = model(inputs)\n",
        "                    preds_size = torch.LongTensor([preds.size(0)] * batch_size)\n",
        "                    loss_value = loss(preds, labels, preds_size, lenghts) / batch_size \n",
        "\n",
        "                    # backward + optimize only if in training phase\n",
        "                    if phase == 'train':\n",
        "                        loss_value.backward()\n",
        "                        optimizer.step()\n",
        "                    elif phase == 'val':\n",
        "                        batch_char_err, batch_char_total, batch_word_ok, batch_word_total = check_accuracy(preds, texts, converter)\n",
        "                        \n",
        "                        char_err += batch_char_err\n",
        "                        char_total += batch_char_total\n",
        "                        word_ok += batch_word_ok\n",
        "                        word_total += batch_word_total\n",
        "                # statistics\n",
        "                running_loss += loss_value.item()\n",
        "                \n",
        "\n",
        "            epoch_loss = running_loss / len(dataloader)\n",
        "            \n",
        "            print('{} Loss: {:.4f}'.format(phase, epoch_loss), flush=True)\n",
        "\n",
        "            if phase == 'train':\n",
        "                train_loss.append(epoch_loss) \n",
        "            else:\n",
        "                val_loss.append(epoch_loss)\n",
        "\n",
        "                char_error_rate = char_err / char_total\n",
        "                word_accuracy = word_ok / word_total\n",
        "                char_error.append(char_error_rate)\n",
        "                word_acc.append(word_accuracy)\n",
        "                print('Character error rate: %f%%. Word accuracy: %f%%.' % (char_error_rate*100.0, word_accuracy*100.0))\n",
        "\n",
        "    return train_loss, val_loss, char_error, word_acc\n",
        "\n",
        "def check_accuracy(preds, gt_texts, converter):\n",
        "\n",
        "    num_char_err = 0\n",
        "    num_char_total = 0\n",
        "    num_word_ok = 0\n",
        "    num_word_total = 0\n",
        "\n",
        "    preds = preds.permute(1, 0, 2)\n",
        "    #print(\"Preds: \", preds)\n",
        "    recognized = converter.decode_text(preds.data.cpu().numpy())\n",
        "\n",
        "    #print('Ground truth -> Recognized')    \n",
        "    for i in range(len(recognized)):\n",
        "        num_word_ok += 1 if gt_texts[i] == recognized[i] else 0\n",
        "        num_word_total += 1\n",
        "        dist = editdistance.eval(recognized[i], gt_texts[i])\n",
        "        num_char_err += dist\n",
        "        num_char_total += len(gt_texts[i])\n",
        "        #print('[OK]' if dist==0 else '[ERR:%d]' % dist,'\"' + gt_texts[i] + '\"', '->', '\"' + recognized[i] + '\"')\n",
        "    \n",
        "    return num_char_err, num_char_total, num_word_ok, num_word_total\n",
        "    \n",
        "\n",
        "\n",
        "def test_model(loader):\n",
        "\n",
        "    #char_error_rate = num_char_err / num_char_total\n",
        "    #word_accuracy = num_word_ok / num_word_total\n",
        "    #print('Character error rate: %f%%. Word accuracy: %f%%.' % (char_error_rate*100.0, word_accuracy*100.0))\n",
        "    #return char_error_rate\n",
        "\n",
        "    pass\n",
        "\n",
        "def main():\n",
        "    \"\"\" main function \"\"\"\n",
        "    \n",
        "    data_transform = transforms.Compose([\n",
        "        transforms.ToPILImage(),\n",
        "        transforms.Grayscale(),\n",
        "        transforms.RandomAffine((-5,5), fillcolor=255, translate=(0.25, 0), scale=(0.8, 1.2)),\n",
        "        # transforms.Resize((192, 32)),\n",
        "        #transforms.ToTensor()\n",
        "    ])\n",
        "\n",
        "    dataset = TodoDataset('dataset', (32, 192), transform=data_transform)\n",
        "\n",
        "    train_size = int(0.8 * len(dataset))\n",
        "    val_size = len(dataset) - train_size\n",
        "\n",
        "    train_loss = [] \n",
        "    val_loss = [] \n",
        "    char_error = [] \n",
        "    word_acc = []\n",
        "\n",
        "    #val_size = len(dataset) - train_size\n",
        "\n",
        "    train_set, val_set = random_split(dataset, [train_size, val_size])\n",
        "    train_dataloader = DataLoader(train_set, batch_size=128, shuffle=True, num_workers=10)\n",
        "    val_dataloader = DataLoader(val_set, batch_size=128, shuffle=True, num_workers=10)\n",
        "\n",
        "    model = Model(1024, len(dataset.char_set) + 1)\n",
        "    loss = torch.nn.CTCLoss()\n",
        "    optimizer = torch.optim.Adam(model.parameters(), lr=l_rate, amsgrad=True)\n",
        "    scheduler = torch.optim.lr_scheduler.StepLR(optimizer, step_size=steps, gamma=gamma)\n",
        "\n",
        "    converter = LabelConverter(dataset.char_set)\n",
        "\n",
        "    train_loss, val_loss, char_error, word_acc = train_model(model=model, loss=loss, optimizer=optimizer, scheduler=scheduler, num_epochs=n_epoch, \n",
        "                train_dataloader=train_dataloader, val_dataloader=val_dataloader, converter=converter)\n",
        "\n",
        "    torch.save(model.state_dict(), '/content/drive/My Drive/Todo/model_LR_{}_STEPS_{}_G_{}_EPOCHS_{}.pth'.format(l_rate, steps, gamma, n_epoch))\n",
        "    #print(model)\n",
        "    \n",
        "    #for i, batch in enumerate(dataloader):\n",
        "        #print(i, batch)\n",
        "    #_, texts = next(iter(train_dataloader))\n",
        "    #print(len(dataset.char_set))\n",
        "    #print(texts)\n",
        "    #converter = LabelConverter(dataset.char_set)\n",
        "    #print(converter.encode_text(texts))\n",
        "    return train_loss, val_loss, char_error, word_acc\n"
      ],
      "execution_count": null,
      "outputs": []
    },
    {
      "cell_type": "code",
      "metadata": {
        "id": "gKsqyxaEfJkt",
        "colab_type": "code",
        "colab": {
          "base_uri": "https://localhost:8080/",
          "height": 1000
        },
        "outputId": "df50143d-1219-414b-a50a-d980a5b479e4"
      },
      "source": [
        "train_loss, val_loss, char_error, word_acc = main()"
      ],
      "execution_count": null,
      "outputs": [
        {
          "output_type": "stream",
          "text": [
            "Epoch 0/59:\n"
          ],
          "name": "stdout"
        },
        {
          "output_type": "stream",
          "text": [
            "/usr/local/lib/python3.6/dist-packages/torch/optim/lr_scheduler.py:123: UserWarning: Detected call of `lr_scheduler.step()` before `optimizer.step()`. In PyTorch 1.1.0 and later, you should call them in the opposite order: `optimizer.step()` before `lr_scheduler.step()`.  Failure to do this will result in PyTorch skipping the first value of the learning rate schedule. See more details at https://pytorch.org/docs/stable/optim.html#how-to-adjust-learning-rate\n",
            "  \"https://pytorch.org/docs/stable/optim.html#how-to-adjust-learning-rate\", UserWarning)\n",
            "100%|██████████| 596/596 [02:08<00:00,  4.65it/s]"
          ],
          "name": "stderr"
        },
        {
          "output_type": "stream",
          "text": [
            "train Loss: 0.0270\n"
          ],
          "name": "stdout"
        },
        {
          "output_type": "stream",
          "text": [
            "\n",
            "100%|██████████| 149/149 [00:11<00:00, 12.88it/s]"
          ],
          "name": "stderr"
        },
        {
          "output_type": "stream",
          "text": [
            "val Loss: 0.0259\n",
            "Character error rate: 94.415158%. Word accuracy: 0.000000%.\n",
            "Epoch 1/59:\n"
          ],
          "name": "stdout"
        },
        {
          "output_type": "stream",
          "text": [
            "\n",
            "100%|██████████| 596/596 [02:21<00:00,  4.22it/s]"
          ],
          "name": "stderr"
        },
        {
          "output_type": "stream",
          "text": [
            "train Loss: 0.0185\n"
          ],
          "name": "stdout"
        },
        {
          "output_type": "stream",
          "text": [
            "\n",
            "100%|██████████| 149/149 [00:12<00:00, 11.64it/s]"
          ],
          "name": "stderr"
        },
        {
          "output_type": "stream",
          "text": [
            "val Loss: 0.1132\n",
            "Character error rate: 119.522052%. Word accuracy: 0.000000%.\n",
            "Epoch 2/59:\n"
          ],
          "name": "stdout"
        },
        {
          "output_type": "stream",
          "text": [
            "\n",
            "100%|██████████| 596/596 [02:25<00:00,  4.09it/s]"
          ],
          "name": "stderr"
        },
        {
          "output_type": "stream",
          "text": [
            "train Loss: 0.0107\n"
          ],
          "name": "stdout"
        },
        {
          "output_type": "stream",
          "text": [
            "\n",
            "100%|██████████| 149/149 [00:13<00:00, 11.37it/s]"
          ],
          "name": "stderr"
        },
        {
          "output_type": "stream",
          "text": [
            "val Loss: 0.0104\n",
            "Character error rate: 42.074230%. Word accuracy: 20.168023%.\n",
            "Epoch 3/59:\n"
          ],
          "name": "stdout"
        },
        {
          "output_type": "stream",
          "text": [
            "\n",
            "100%|██████████| 596/596 [02:26<00:00,  4.07it/s]"
          ],
          "name": "stderr"
        },
        {
          "output_type": "stream",
          "text": [
            "train Loss: 0.0037\n"
          ],
          "name": "stdout"
        },
        {
          "output_type": "stream",
          "text": [
            "\n",
            "100%|██████████| 149/149 [00:12<00:00, 11.80it/s]"
          ],
          "name": "stderr"
        },
        {
          "output_type": "stream",
          "text": [
            "val Loss: 0.0065\n",
            "Character error rate: 26.426717%. Word accuracy: 43.686007%.\n",
            "Epoch 4/59:\n"
          ],
          "name": "stdout"
        },
        {
          "output_type": "stream",
          "text": [
            "\n",
            "100%|██████████| 596/596 [02:26<00:00,  4.07it/s]"
          ],
          "name": "stderr"
        },
        {
          "output_type": "stream",
          "text": [
            "train Loss: 0.0023\n"
          ],
          "name": "stdout"
        },
        {
          "output_type": "stream",
          "text": [
            "\n",
            "100%|██████████| 149/149 [00:12<00:00, 11.73it/s]"
          ],
          "name": "stderr"
        },
        {
          "output_type": "stream",
          "text": [
            "val Loss: 0.0054\n",
            "Character error rate: 22.343271%. Word accuracy: 47.119979%.\n",
            "Epoch 5/59:\n"
          ],
          "name": "stdout"
        },
        {
          "output_type": "stream",
          "text": [
            "\n",
            "100%|██████████| 596/596 [02:26<00:00,  4.06it/s]"
          ],
          "name": "stderr"
        },
        {
          "output_type": "stream",
          "text": [
            "train Loss: 0.0019\n"
          ],
          "name": "stdout"
        },
        {
          "output_type": "stream",
          "text": [
            "\n",
            "100%|██████████| 149/149 [00:12<00:00, 11.74it/s]"
          ],
          "name": "stderr"
        },
        {
          "output_type": "stream",
          "text": [
            "val Loss: 0.0019\n",
            "Character error rate: 7.582147%. Word accuracy: 79.107377%.\n",
            "Epoch 6/59:\n"
          ],
          "name": "stdout"
        },
        {
          "output_type": "stream",
          "text": [
            "\n",
            "100%|██████████| 596/596 [02:26<00:00,  4.07it/s]"
          ],
          "name": "stderr"
        },
        {
          "output_type": "stream",
          "text": [
            "train Loss: 0.0013\n"
          ],
          "name": "stdout"
        },
        {
          "output_type": "stream",
          "text": [
            "\n",
            "100%|██████████| 149/149 [00:12<00:00, 11.61it/s]"
          ],
          "name": "stderr"
        },
        {
          "output_type": "stream",
          "text": [
            "val Loss: 0.0015\n",
            "Character error rate: 6.261348%. Word accuracy: 81.832502%.\n",
            "Epoch 7/59:\n"
          ],
          "name": "stdout"
        },
        {
          "output_type": "stream",
          "text": [
            "\n",
            "100%|██████████| 596/596 [02:26<00:00,  4.06it/s]"
          ],
          "name": "stderr"
        },
        {
          "output_type": "stream",
          "text": [
            "train Loss: 0.0011\n"
          ],
          "name": "stdout"
        },
        {
          "output_type": "stream",
          "text": [
            "\n",
            "100%|██████████| 149/149 [00:12<00:00, 11.76it/s]"
          ],
          "name": "stderr"
        },
        {
          "output_type": "stream",
          "text": [
            "val Loss: 0.0023\n",
            "Character error rate: 8.855112%. Word accuracy: 73.462851%.\n",
            "Epoch 8/59:\n"
          ],
          "name": "stdout"
        },
        {
          "output_type": "stream",
          "text": [
            "\n",
            "100%|██████████| 596/596 [02:26<00:00,  4.06it/s]"
          ],
          "name": "stderr"
        },
        {
          "output_type": "stream",
          "text": [
            "train Loss: 0.0011\n"
          ],
          "name": "stdout"
        },
        {
          "output_type": "stream",
          "text": [
            "\n",
            "100%|██████████| 149/149 [00:12<00:00, 11.66it/s]"
          ],
          "name": "stderr"
        },
        {
          "output_type": "stream",
          "text": [
            "val Loss: 0.0010\n",
            "Character error rate: 3.944825%. Word accuracy: 87.645051%.\n",
            "Epoch 9/59:\n"
          ],
          "name": "stdout"
        },
        {
          "output_type": "stream",
          "text": [
            "\n",
            "100%|██████████| 596/596 [02:26<00:00,  4.06it/s]"
          ],
          "name": "stderr"
        },
        {
          "output_type": "stream",
          "text": [
            "train Loss: 0.0007\n"
          ],
          "name": "stdout"
        },
        {
          "output_type": "stream",
          "text": [
            "\n",
            "100%|██████████| 149/149 [00:12<00:00, 11.64it/s]"
          ],
          "name": "stderr"
        },
        {
          "output_type": "stream",
          "text": [
            "val Loss: 0.0008\n",
            "Character error rate: 3.186318%. Word accuracy: 89.850354%.\n",
            "Epoch 10/59:\n"
          ],
          "name": "stdout"
        },
        {
          "output_type": "stream",
          "text": [
            "\n",
            "100%|██████████| 596/596 [02:26<00:00,  4.06it/s]"
          ],
          "name": "stderr"
        },
        {
          "output_type": "stream",
          "text": [
            "train Loss: 0.0006\n"
          ],
          "name": "stdout"
        },
        {
          "output_type": "stream",
          "text": [
            "\n",
            "100%|██████████| 149/149 [00:12<00:00, 11.63it/s]"
          ],
          "name": "stderr"
        },
        {
          "output_type": "stream",
          "text": [
            "val Loss: 0.0008\n",
            "Character error rate: 3.269295%. Word accuracy: 89.866107%.\n",
            "Epoch 11/59:\n"
          ],
          "name": "stdout"
        },
        {
          "output_type": "stream",
          "text": [
            "\n",
            "100%|██████████| 596/596 [02:26<00:00,  4.06it/s]"
          ],
          "name": "stderr"
        },
        {
          "output_type": "stream",
          "text": [
            "train Loss: 0.0006\n"
          ],
          "name": "stdout"
        },
        {
          "output_type": "stream",
          "text": [
            "\n",
            "100%|██████████| 149/149 [00:12<00:00, 11.55it/s]"
          ],
          "name": "stderr"
        },
        {
          "output_type": "stream",
          "text": [
            "val Loss: 0.0007\n",
            "Character error rate: 2.945196%. Word accuracy: 90.580205%.\n",
            "Epoch 12/59:\n"
          ],
          "name": "stdout"
        },
        {
          "output_type": "stream",
          "text": [
            "\n",
            "100%|██████████| 596/596 [02:26<00:00,  4.06it/s]"
          ],
          "name": "stderr"
        },
        {
          "output_type": "stream",
          "text": [
            "train Loss: 0.0005\n"
          ],
          "name": "stdout"
        },
        {
          "output_type": "stream",
          "text": [
            "\n",
            "100%|██████████| 149/149 [00:12<00:00, 11.54it/s]"
          ],
          "name": "stderr"
        },
        {
          "output_type": "stream",
          "text": [
            "val Loss: 0.0009\n",
            "Character error rate: 3.667584%. Word accuracy: 88.621685%.\n",
            "Epoch 13/59:\n"
          ],
          "name": "stdout"
        },
        {
          "output_type": "stream",
          "text": [
            "\n",
            "100%|██████████| 596/596 [02:26<00:00,  4.06it/s]"
          ],
          "name": "stderr"
        },
        {
          "output_type": "stream",
          "text": [
            "train Loss: 0.0005\n"
          ],
          "name": "stdout"
        },
        {
          "output_type": "stream",
          "text": [
            "\n",
            "100%|██████████| 149/149 [00:12<00:00, 11.61it/s]"
          ],
          "name": "stderr"
        },
        {
          "output_type": "stream",
          "text": [
            "val Loss: 0.0016\n",
            "Character error rate: 6.463422%. Word accuracy: 80.162772%.\n",
            "Epoch 14/59:\n"
          ],
          "name": "stdout"
        },
        {
          "output_type": "stream",
          "text": [
            "\n",
            "100%|██████████| 596/596 [02:26<00:00,  4.06it/s]"
          ],
          "name": "stderr"
        },
        {
          "output_type": "stream",
          "text": [
            "train Loss: 0.0007\n"
          ],
          "name": "stdout"
        },
        {
          "output_type": "stream",
          "text": [
            "\n",
            "100%|██████████| 149/149 [00:12<00:00, 11.61it/s]"
          ],
          "name": "stderr"
        },
        {
          "output_type": "stream",
          "text": [
            "val Loss: 0.0008\n",
            "Character error rate: 3.221461%. Word accuracy: 90.055133%.\n",
            "Epoch 15/59:\n"
          ],
          "name": "stdout"
        },
        {
          "output_type": "stream",
          "text": [
            "\n",
            "100%|██████████| 596/596 [02:26<00:00,  4.06it/s]"
          ],
          "name": "stderr"
        },
        {
          "output_type": "stream",
          "text": [
            "train Loss: 0.0005\n"
          ],
          "name": "stdout"
        },
        {
          "output_type": "stream",
          "text": [
            "\n",
            "100%|██████████| 149/149 [00:12<00:00, 11.68it/s]"
          ],
          "name": "stderr"
        },
        {
          "output_type": "stream",
          "text": [
            "val Loss: 0.0006\n",
            "Character error rate: 2.489311%. Word accuracy: 91.940142%.\n",
            "Epoch 16/59:\n"
          ],
          "name": "stdout"
        },
        {
          "output_type": "stream",
          "text": [
            "\n",
            "100%|██████████| 596/596 [02:26<00:00,  4.07it/s]"
          ],
          "name": "stderr"
        },
        {
          "output_type": "stream",
          "text": [
            "train Loss: 0.0004\n"
          ],
          "name": "stdout"
        },
        {
          "output_type": "stream",
          "text": [
            "\n",
            "100%|██████████| 149/149 [00:12<00:00, 11.52it/s]"
          ],
          "name": "stderr"
        },
        {
          "output_type": "stream",
          "text": [
            "val Loss: 0.0006\n",
            "Character error rate: 2.290166%. Word accuracy: 92.627986%.\n",
            "Epoch 17/59:\n"
          ],
          "name": "stdout"
        },
        {
          "output_type": "stream",
          "text": [
            "\n",
            "100%|██████████| 596/596 [02:27<00:00,  4.05it/s]"
          ],
          "name": "stderr"
        },
        {
          "output_type": "stream",
          "text": [
            "train Loss: 0.0004\n"
          ],
          "name": "stdout"
        },
        {
          "output_type": "stream",
          "text": [
            "\n",
            "100%|██████████| 149/149 [00:12<00:00, 11.61it/s]"
          ],
          "name": "stderr"
        },
        {
          "output_type": "stream",
          "text": [
            "val Loss: 0.0005\n",
            "Character error rate: 2.267713%. Word accuracy: 92.748753%.\n",
            "Epoch 18/59:\n"
          ],
          "name": "stdout"
        },
        {
          "output_type": "stream",
          "text": [
            "\n",
            "100%|██████████| 596/596 [02:26<00:00,  4.06it/s]"
          ],
          "name": "stderr"
        },
        {
          "output_type": "stream",
          "text": [
            "train Loss: 0.0003\n"
          ],
          "name": "stdout"
        },
        {
          "output_type": "stream",
          "text": [
            "\n",
            "100%|██████████| 149/149 [00:12<00:00, 11.68it/s]"
          ],
          "name": "stderr"
        },
        {
          "output_type": "stream",
          "text": [
            "val Loss: 0.0005\n",
            "Character error rate: 2.173998%. Word accuracy: 92.843266%.\n",
            "Epoch 19/59:\n"
          ],
          "name": "stdout"
        },
        {
          "output_type": "stream",
          "text": [
            "\n",
            "100%|██████████| 596/596 [02:26<00:00,  4.06it/s]"
          ],
          "name": "stderr"
        },
        {
          "output_type": "stream",
          "text": [
            "train Loss: 0.0003\n"
          ],
          "name": "stdout"
        },
        {
          "output_type": "stream",
          "text": [
            "\n",
            "100%|██████████| 149/149 [00:12<00:00, 11.67it/s]"
          ],
          "name": "stderr"
        },
        {
          "output_type": "stream",
          "text": [
            "val Loss: 0.0005\n",
            "Character error rate: 1.954353%. Word accuracy: 93.651877%.\n",
            "Epoch 20/59:\n"
          ],
          "name": "stdout"
        },
        {
          "output_type": "stream",
          "text": [
            "\n",
            "100%|██████████| 596/596 [02:27<00:00,  4.05it/s]"
          ],
          "name": "stderr"
        },
        {
          "output_type": "stream",
          "text": [
            "train Loss: 0.0003\n"
          ],
          "name": "stdout"
        },
        {
          "output_type": "stream",
          "text": [
            "\n",
            "100%|██████████| 149/149 [00:12<00:00, 11.60it/s]"
          ],
          "name": "stderr"
        },
        {
          "output_type": "stream",
          "text": [
            "val Loss: 0.0005\n",
            "Character error rate: 2.004139%. Word accuracy: 93.657128%.\n",
            "Epoch 21/59:\n"
          ],
          "name": "stdout"
        },
        {
          "output_type": "stream",
          "text": [
            "\n",
            "100%|██████████| 596/596 [02:27<00:00,  4.05it/s]"
          ],
          "name": "stderr"
        },
        {
          "output_type": "stream",
          "text": [
            "train Loss: 0.0002\n"
          ],
          "name": "stdout"
        },
        {
          "output_type": "stream",
          "text": [
            "\n",
            "100%|██████████| 149/149 [00:12<00:00, 11.62it/s]"
          ],
          "name": "stderr"
        },
        {
          "output_type": "stream",
          "text": [
            "val Loss: 0.0004\n",
            "Character error rate: 1.838185%. Word accuracy: 94.029929%.\n",
            "Epoch 22/59:\n"
          ],
          "name": "stdout"
        },
        {
          "output_type": "stream",
          "text": [
            "\n",
            "100%|██████████| 596/596 [02:26<00:00,  4.06it/s]"
          ],
          "name": "stderr"
        },
        {
          "output_type": "stream",
          "text": [
            "train Loss: 0.0002\n"
          ],
          "name": "stdout"
        },
        {
          "output_type": "stream",
          "text": [
            "\n",
            "100%|██████████| 149/149 [00:12<00:00, 11.64it/s]"
          ],
          "name": "stderr"
        },
        {
          "output_type": "stream",
          "text": [
            "val Loss: 0.0004\n",
            "Character error rate: 1.802066%. Word accuracy: 93.966920%.\n",
            "Epoch 23/59:\n"
          ],
          "name": "stdout"
        },
        {
          "output_type": "stream",
          "text": [
            "\n",
            "100%|██████████| 596/596 [02:27<00:00,  4.05it/s]"
          ],
          "name": "stderr"
        },
        {
          "output_type": "stream",
          "text": [
            "train Loss: 0.0002\n"
          ],
          "name": "stdout"
        },
        {
          "output_type": "stream",
          "text": [
            "\n",
            "100%|██████████| 149/149 [00:12<00:00, 11.61it/s]"
          ],
          "name": "stderr"
        },
        {
          "output_type": "stream",
          "text": [
            "val Loss: 0.0005\n",
            "Character error rate: 1.857709%. Word accuracy: 94.087687%.\n",
            "Epoch 24/59:\n"
          ],
          "name": "stdout"
        },
        {
          "output_type": "stream",
          "text": [
            "\n",
            "100%|██████████| 596/596 [02:26<00:00,  4.06it/s]"
          ],
          "name": "stderr"
        },
        {
          "output_type": "stream",
          "text": [
            "train Loss: 0.0002\n"
          ],
          "name": "stdout"
        },
        {
          "output_type": "stream",
          "text": [
            "\n",
            "100%|██████████| 149/149 [00:12<00:00, 11.66it/s]"
          ],
          "name": "stderr"
        },
        {
          "output_type": "stream",
          "text": [
            "val Loss: 0.0004\n",
            "Character error rate: 1.817685%. Word accuracy: 93.982673%.\n",
            "Epoch 25/59:\n"
          ],
          "name": "stdout"
        },
        {
          "output_type": "stream",
          "text": [
            "\n",
            "100%|██████████| 596/596 [02:26<00:00,  4.06it/s]"
          ],
          "name": "stderr"
        },
        {
          "output_type": "stream",
          "text": [
            "train Loss: 0.0002\n"
          ],
          "name": "stdout"
        },
        {
          "output_type": "stream",
          "text": [
            "\n",
            "100%|██████████| 149/149 [00:12<00:00, 11.68it/s]"
          ],
          "name": "stderr"
        },
        {
          "output_type": "stream",
          "text": [
            "val Loss: 0.0004\n",
            "Character error rate: 1.785470%. Word accuracy: 94.182200%.\n",
            "Epoch 26/59:\n"
          ],
          "name": "stdout"
        },
        {
          "output_type": "stream",
          "text": [
            "\n",
            "100%|██████████| 596/596 [02:26<00:00,  4.06it/s]"
          ],
          "name": "stderr"
        },
        {
          "output_type": "stream",
          "text": [
            "train Loss: 0.0002\n"
          ],
          "name": "stdout"
        },
        {
          "output_type": "stream",
          "text": [
            "\n",
            "100%|██████████| 149/149 [00:12<00:00, 11.57it/s]"
          ],
          "name": "stderr"
        },
        {
          "output_type": "stream",
          "text": [
            "val Loss: 0.0004\n",
            "Character error rate: 1.681993%. Word accuracy: 94.518246%.\n",
            "Epoch 27/59:\n"
          ],
          "name": "stdout"
        },
        {
          "output_type": "stream",
          "text": [
            "\n",
            "100%|██████████| 596/596 [02:26<00:00,  4.06it/s]"
          ],
          "name": "stderr"
        },
        {
          "output_type": "stream",
          "text": [
            "train Loss: 0.0002\n"
          ],
          "name": "stdout"
        },
        {
          "output_type": "stream",
          "text": [
            "\n",
            "100%|██████████| 149/149 [00:12<00:00, 11.73it/s]"
          ],
          "name": "stderr"
        },
        {
          "output_type": "stream",
          "text": [
            "val Loss: 0.0004\n",
            "Character error rate: 1.694684%. Word accuracy: 94.323970%.\n",
            "Epoch 28/59:\n"
          ],
          "name": "stdout"
        },
        {
          "output_type": "stream",
          "text": [
            "\n",
            "100%|██████████| 596/596 [02:27<00:00,  4.05it/s]"
          ],
          "name": "stderr"
        },
        {
          "output_type": "stream",
          "text": [
            "train Loss: 0.0002\n"
          ],
          "name": "stdout"
        },
        {
          "output_type": "stream",
          "text": [
            "\n",
            "100%|██████████| 149/149 [00:12<00:00, 11.58it/s]"
          ],
          "name": "stderr"
        },
        {
          "output_type": "stream",
          "text": [
            "val Loss: 0.0004\n",
            "Character error rate: 1.767899%. Word accuracy: 94.145445%.\n",
            "Epoch 29/59:\n"
          ],
          "name": "stdout"
        },
        {
          "output_type": "stream",
          "text": [
            "\n",
            "100%|██████████| 596/596 [02:27<00:00,  4.05it/s]"
          ],
          "name": "stderr"
        },
        {
          "output_type": "stream",
          "text": [
            "train Loss: 0.0002\n"
          ],
          "name": "stdout"
        },
        {
          "output_type": "stream",
          "text": [
            "\n",
            "100%|██████████| 149/149 [00:12<00:00, 11.57it/s]"
          ],
          "name": "stderr"
        },
        {
          "output_type": "stream",
          "text": [
            "val Loss: 0.0004\n",
            "Character error rate: 1.624397%. Word accuracy: 94.576004%.\n",
            "Epoch 30/59:\n"
          ],
          "name": "stdout"
        },
        {
          "output_type": "stream",
          "text": [
            "\n",
            "100%|██████████| 596/596 [02:27<00:00,  4.05it/s]"
          ],
          "name": "stderr"
        },
        {
          "output_type": "stream",
          "text": [
            "train Loss: 0.0002\n"
          ],
          "name": "stdout"
        },
        {
          "output_type": "stream",
          "text": [
            "\n",
            "100%|██████████| 149/149 [00:12<00:00, 11.62it/s]"
          ],
          "name": "stderr"
        },
        {
          "output_type": "stream",
          "text": [
            "val Loss: 0.0004\n",
            "Character error rate: 1.521896%. Word accuracy: 94.880546%.\n",
            "Epoch 31/59:\n"
          ],
          "name": "stdout"
        },
        {
          "output_type": "stream",
          "text": [
            "\n",
            "100%|██████████| 596/596 [02:26<00:00,  4.06it/s]"
          ],
          "name": "stderr"
        },
        {
          "output_type": "stream",
          "text": [
            "train Loss: 0.0002\n"
          ],
          "name": "stdout"
        },
        {
          "output_type": "stream",
          "text": [
            "\n",
            "100%|██████████| 149/149 [00:12<00:00, 11.67it/s]"
          ],
          "name": "stderr"
        },
        {
          "output_type": "stream",
          "text": [
            "val Loss: 0.0004\n",
            "Character error rate: 1.674183%. Word accuracy: 94.565503%.\n",
            "Epoch 32/59:\n"
          ],
          "name": "stdout"
        },
        {
          "output_type": "stream",
          "text": [
            "\n",
            "100%|██████████| 596/596 [02:26<00:00,  4.06it/s]"
          ],
          "name": "stderr"
        },
        {
          "output_type": "stream",
          "text": [
            "train Loss: 0.0002\n"
          ],
          "name": "stdout"
        },
        {
          "output_type": "stream",
          "text": [
            "\n",
            "100%|██████████| 149/149 [00:12<00:00, 11.63it/s]"
          ],
          "name": "stderr"
        },
        {
          "output_type": "stream",
          "text": [
            "val Loss: 0.0004\n",
            "Character error rate: 1.556063%. Word accuracy: 94.833290%.\n",
            "Epoch 33/59:\n"
          ],
          "name": "stdout"
        },
        {
          "output_type": "stream",
          "text": [
            "\n",
            "100%|██████████| 596/596 [02:26<00:00,  4.07it/s]"
          ],
          "name": "stderr"
        },
        {
          "output_type": "stream",
          "text": [
            "train Loss: 0.0001\n"
          ],
          "name": "stdout"
        },
        {
          "output_type": "stream",
          "text": [
            "\n",
            "100%|██████████| 149/149 [00:12<00:00, 11.68it/s]"
          ],
          "name": "stderr"
        },
        {
          "output_type": "stream",
          "text": [
            "val Loss: 0.0004\n",
            "Character error rate: 1.535563%. Word accuracy: 94.870045%.\n",
            "Epoch 34/59:\n"
          ],
          "name": "stdout"
        },
        {
          "output_type": "stream",
          "text": [
            "\n",
            "100%|██████████| 596/596 [02:26<00:00,  4.06it/s]"
          ],
          "name": "stderr"
        },
        {
          "output_type": "stream",
          "text": [
            "train Loss: 0.0001\n"
          ],
          "name": "stdout"
        },
        {
          "output_type": "stream",
          "text": [
            "\n",
            "100%|██████████| 149/149 [00:12<00:00, 11.66it/s]"
          ],
          "name": "stderr"
        },
        {
          "output_type": "stream",
          "text": [
            "val Loss: 0.0004\n",
            "Character error rate: 1.538492%. Word accuracy: 94.891048%.\n",
            "Epoch 35/59:\n"
          ],
          "name": "stdout"
        },
        {
          "output_type": "stream",
          "text": [
            "\n",
            "100%|██████████| 596/596 [02:26<00:00,  4.06it/s]"
          ],
          "name": "stderr"
        },
        {
          "output_type": "stream",
          "text": [
            "train Loss: 0.0002\n"
          ],
          "name": "stdout"
        },
        {
          "output_type": "stream",
          "text": [
            "\n",
            "100%|██████████| 149/149 [00:12<00:00, 11.65it/s]"
          ],
          "name": "stderr"
        },
        {
          "output_type": "stream",
          "text": [
            "val Loss: 0.0004\n",
            "Character error rate: 1.570706%. Word accuracy: 95.006563%.\n",
            "Epoch 36/59:\n"
          ],
          "name": "stdout"
        },
        {
          "output_type": "stream",
          "text": [
            "\n",
            "100%|██████████| 596/596 [02:26<00:00,  4.07it/s]"
          ],
          "name": "stderr"
        },
        {
          "output_type": "stream",
          "text": [
            "train Loss: 0.0001\n"
          ],
          "name": "stdout"
        },
        {
          "output_type": "stream",
          "text": [
            "\n",
            "100%|██████████| 149/149 [00:12<00:00, 11.61it/s]"
          ],
          "name": "stderr"
        },
        {
          "output_type": "stream",
          "text": [
            "val Loss: 0.0004\n",
            "Character error rate: 1.614635%. Word accuracy: 94.717774%.\n",
            "Epoch 37/59:\n"
          ],
          "name": "stdout"
        },
        {
          "output_type": "stream",
          "text": [
            "\n",
            "100%|██████████| 596/596 [02:26<00:00,  4.05it/s]"
          ],
          "name": "stderr"
        },
        {
          "output_type": "stream",
          "text": [
            "train Loss: 0.0001\n"
          ],
          "name": "stdout"
        },
        {
          "output_type": "stream",
          "text": [
            "\n",
            "100%|██████████| 149/149 [00:12<00:00, 11.66it/s]"
          ],
          "name": "stderr"
        },
        {
          "output_type": "stream",
          "text": [
            "val Loss: 0.0004\n",
            "Character error rate: 1.516039%. Word accuracy: 94.896298%.\n",
            "Epoch 38/59:\n"
          ],
          "name": "stdout"
        },
        {
          "output_type": "stream",
          "text": [
            "\n",
            "100%|██████████| 596/596 [02:27<00:00,  4.05it/s]"
          ],
          "name": "stderr"
        },
        {
          "output_type": "stream",
          "text": [
            "train Loss: 0.0001\n"
          ],
          "name": "stdout"
        },
        {
          "output_type": "stream",
          "text": [
            "\n",
            "100%|██████████| 149/149 [00:12<00:00, 11.70it/s]"
          ],
          "name": "stderr"
        },
        {
          "output_type": "stream",
          "text": [
            "val Loss: 0.0004\n",
            "Character error rate: 1.540444%. Word accuracy: 94.875295%.\n",
            "Epoch 39/59:\n"
          ],
          "name": "stdout"
        },
        {
          "output_type": "stream",
          "text": [
            "\n",
            "100%|██████████| 596/596 [02:26<00:00,  4.07it/s]"
          ],
          "name": "stderr"
        },
        {
          "output_type": "stream",
          "text": [
            "train Loss: 0.0001\n"
          ],
          "name": "stdout"
        },
        {
          "output_type": "stream",
          "text": [
            "\n",
            "100%|██████████| 149/149 [00:12<00:00, 11.74it/s]"
          ],
          "name": "stderr"
        },
        {
          "output_type": "stream",
          "text": [
            "val Loss: 0.0004\n",
            "Character error rate: 1.528730%. Word accuracy: 94.975059%.\n",
            "Epoch 40/59:\n"
          ],
          "name": "stdout"
        },
        {
          "output_type": "stream",
          "text": [
            "\n",
            "100%|██████████| 596/596 [02:26<00:00,  4.06it/s]"
          ],
          "name": "stderr"
        },
        {
          "output_type": "stream",
          "text": [
            "train Loss: 0.0001\n"
          ],
          "name": "stdout"
        },
        {
          "output_type": "stream",
          "text": [
            "\n",
            "100%|██████████| 149/149 [00:12<00:00, 11.69it/s]"
          ],
          "name": "stderr"
        },
        {
          "output_type": "stream",
          "text": [
            "val Loss: 0.0003\n",
            "Character error rate: 1.426229%. Word accuracy: 95.232344%.\n",
            "Epoch 41/59:\n"
          ],
          "name": "stdout"
        },
        {
          "output_type": "stream",
          "text": [
            "\n",
            "100%|██████████| 596/596 [02:27<00:00,  4.05it/s]"
          ],
          "name": "stderr"
        },
        {
          "output_type": "stream",
          "text": [
            "train Loss: 0.0001\n"
          ],
          "name": "stdout"
        },
        {
          "output_type": "stream",
          "text": [
            "\n",
            "100%|██████████| 149/149 [00:12<00:00, 11.62it/s]"
          ],
          "name": "stderr"
        },
        {
          "output_type": "stream",
          "text": [
            "val Loss: 0.0004\n",
            "Character error rate: 1.524825%. Word accuracy: 95.116829%.\n",
            "Epoch 42/59:\n"
          ],
          "name": "stdout"
        },
        {
          "output_type": "stream",
          "text": [
            "\n",
            "100%|██████████| 596/596 [02:26<00:00,  4.05it/s]"
          ],
          "name": "stderr"
        },
        {
          "output_type": "stream",
          "text": [
            "train Loss: 0.0001\n"
          ],
          "name": "stdout"
        },
        {
          "output_type": "stream",
          "text": [
            "\n",
            "100%|██████████| 149/149 [00:12<00:00, 11.49it/s]"
          ],
          "name": "stderr"
        },
        {
          "output_type": "stream",
          "text": [
            "val Loss: 0.0004\n"
          ],
          "name": "stdout"
        },
        {
          "output_type": "stream",
          "text": [
            "\n"
          ],
          "name": "stderr"
        },
        {
          "output_type": "stream",
          "text": [
            "Character error rate: 1.496515%. Word accuracy: 95.216592%.\n",
            "Epoch 43/59:\n"
          ],
          "name": "stdout"
        },
        {
          "output_type": "stream",
          "text": [
            "100%|██████████| 596/596 [02:27<00:00,  4.05it/s]"
          ],
          "name": "stderr"
        },
        {
          "output_type": "stream",
          "text": [
            "train Loss: 0.0001\n"
          ],
          "name": "stdout"
        },
        {
          "output_type": "stream",
          "text": [
            "\n",
            "100%|██████████| 149/149 [00:12<00:00, 11.54it/s]"
          ],
          "name": "stderr"
        },
        {
          "output_type": "stream",
          "text": [
            "val Loss: 0.0004\n",
            "Character error rate: 1.531658%. Word accuracy: 95.048569%.\n",
            "Epoch 44/59:\n"
          ],
          "name": "stdout"
        },
        {
          "output_type": "stream",
          "text": [
            "\n",
            "100%|██████████| 596/596 [02:26<00:00,  4.06it/s]"
          ],
          "name": "stderr"
        },
        {
          "output_type": "stream",
          "text": [
            "train Loss: 0.0001\n"
          ],
          "name": "stdout"
        },
        {
          "output_type": "stream",
          "text": [
            "\n",
            "100%|██████████| 149/149 [00:12<00:00, 11.50it/s]"
          ],
          "name": "stderr"
        },
        {
          "output_type": "stream",
          "text": [
            "val Loss: 0.0004\n",
            "Character error rate: 1.475039%. Word accuracy: 95.169336%.\n",
            "Epoch 45/59:\n"
          ],
          "name": "stdout"
        },
        {
          "output_type": "stream",
          "text": [
            "\n",
            "100%|██████████| 596/596 [02:27<00:00,  4.04it/s]"
          ],
          "name": "stderr"
        },
        {
          "output_type": "stream",
          "text": [
            "train Loss: 0.0001\n"
          ],
          "name": "stdout"
        },
        {
          "output_type": "stream",
          "text": [
            "\n",
            "100%|██████████| 149/149 [00:12<00:00, 11.65it/s]"
          ],
          "name": "stderr"
        },
        {
          "output_type": "stream",
          "text": [
            "val Loss: 0.0004\n",
            "Character error rate: 1.493586%. Word accuracy: 94.948805%.\n",
            "Epoch 46/59:\n"
          ],
          "name": "stdout"
        },
        {
          "output_type": "stream",
          "text": [
            "\n",
            "100%|██████████| 596/596 [02:26<00:00,  4.06it/s]"
          ],
          "name": "stderr"
        },
        {
          "output_type": "stream",
          "text": [
            "train Loss: 0.0001\n"
          ],
          "name": "stdout"
        },
        {
          "output_type": "stream",
          "text": [
            "\n",
            "100%|██████████| 149/149 [00:12<00:00, 11.69it/s]"
          ],
          "name": "stderr"
        },
        {
          "output_type": "stream",
          "text": [
            "val Loss: 0.0004\n",
            "Character error rate: 1.497491%. Word accuracy: 95.132581%.\n",
            "Epoch 47/59:\n"
          ],
          "name": "stdout"
        },
        {
          "output_type": "stream",
          "text": [
            "\n",
            "100%|██████████| 596/596 [02:26<00:00,  4.06it/s]"
          ],
          "name": "stderr"
        },
        {
          "output_type": "stream",
          "text": [
            "train Loss: 0.0001\n"
          ],
          "name": "stdout"
        },
        {
          "output_type": "stream",
          "text": [
            "\n",
            "100%|██████████| 149/149 [00:12<00:00, 11.67it/s]"
          ],
          "name": "stderr"
        },
        {
          "output_type": "stream",
          "text": [
            "val Loss: 0.0004\n",
            "Character error rate: 1.476991%. Word accuracy: 95.074823%.\n",
            "Epoch 48/59:\n"
          ],
          "name": "stdout"
        },
        {
          "output_type": "stream",
          "text": [
            "\n",
            "100%|██████████| 596/596 [02:26<00:00,  4.06it/s]"
          ],
          "name": "stderr"
        },
        {
          "output_type": "stream",
          "text": [
            "train Loss: 0.0001\n"
          ],
          "name": "stdout"
        },
        {
          "output_type": "stream",
          "text": [
            "\n",
            "100%|██████████| 149/149 [00:12<00:00, 11.63it/s]"
          ],
          "name": "stderr"
        },
        {
          "output_type": "stream",
          "text": [
            "val Loss: 0.0004\n",
            "Character error rate: 1.461372%. Word accuracy: 95.174587%.\n",
            "Epoch 49/59:\n"
          ],
          "name": "stdout"
        },
        {
          "output_type": "stream",
          "text": [
            "\n",
            "100%|██████████| 596/596 [02:27<00:00,  4.05it/s]"
          ],
          "name": "stderr"
        },
        {
          "output_type": "stream",
          "text": [
            "train Loss: 0.0001\n"
          ],
          "name": "stdout"
        },
        {
          "output_type": "stream",
          "text": [
            "\n",
            "100%|██████████| 149/149 [00:12<00:00, 11.52it/s]"
          ],
          "name": "stderr"
        },
        {
          "output_type": "stream",
          "text": [
            "val Loss: 0.0004\n",
            "Character error rate: 1.537515%. Word accuracy: 94.948805%.\n",
            "Epoch 50/59:\n"
          ],
          "name": "stdout"
        },
        {
          "output_type": "stream",
          "text": [
            "\n",
            "100%|██████████| 596/596 [02:26<00:00,  4.07it/s]"
          ],
          "name": "stderr"
        },
        {
          "output_type": "stream",
          "text": [
            "train Loss: 0.0001\n"
          ],
          "name": "stdout"
        },
        {
          "output_type": "stream",
          "text": [
            "\n",
            "100%|██████████| 149/149 [00:12<00:00, 11.67it/s]"
          ],
          "name": "stderr"
        },
        {
          "output_type": "stream",
          "text": [
            "val Loss: 0.0003\n",
            "Character error rate: 1.451610%. Word accuracy: 95.143082%.\n",
            "Epoch 51/59:\n"
          ],
          "name": "stdout"
        },
        {
          "output_type": "stream",
          "text": [
            "\n",
            "100%|██████████| 596/596 [02:26<00:00,  4.06it/s]"
          ],
          "name": "stderr"
        },
        {
          "output_type": "stream",
          "text": [
            "train Loss: 0.0001\n"
          ],
          "name": "stdout"
        },
        {
          "output_type": "stream",
          "text": [
            "\n",
            "100%|██████████| 149/149 [00:12<00:00, 11.69it/s]"
          ],
          "name": "stderr"
        },
        {
          "output_type": "stream",
          "text": [
            "val Loss: 0.0003\n",
            "Character error rate: 1.420371%. Word accuracy: 95.169336%.\n",
            "Epoch 52/59:\n"
          ],
          "name": "stdout"
        },
        {
          "output_type": "stream",
          "text": [
            "\n",
            "100%|██████████| 596/596 [02:26<00:00,  4.05it/s]"
          ],
          "name": "stderr"
        },
        {
          "output_type": "stream",
          "text": [
            "train Loss: 0.0001\n"
          ],
          "name": "stdout"
        },
        {
          "output_type": "stream",
          "text": [
            "\n",
            "100%|██████████| 149/149 [00:12<00:00, 11.67it/s]"
          ],
          "name": "stderr"
        },
        {
          "output_type": "stream",
          "text": [
            "val Loss: 0.0003\n",
            "Character error rate: 1.422324%. Word accuracy: 95.227094%.\n",
            "Epoch 53/59:\n"
          ],
          "name": "stdout"
        },
        {
          "output_type": "stream",
          "text": [
            "\n",
            "100%|██████████| 596/596 [02:26<00:00,  4.06it/s]"
          ],
          "name": "stderr"
        },
        {
          "output_type": "stream",
          "text": [
            "train Loss: 0.0001\n"
          ],
          "name": "stdout"
        },
        {
          "output_type": "stream",
          "text": [
            "\n",
            "100%|██████████| 149/149 [00:12<00:00, 11.64it/s]"
          ],
          "name": "stderr"
        },
        {
          "output_type": "stream",
          "text": [
            "val Loss: 0.0004\n",
            "Character error rate: 1.458443%. Word accuracy: 95.290102%.\n",
            "Epoch 54/59:\n"
          ],
          "name": "stdout"
        },
        {
          "output_type": "stream",
          "text": [
            "\n",
            "100%|██████████| 596/596 [02:26<00:00,  4.06it/s]"
          ],
          "name": "stderr"
        },
        {
          "output_type": "stream",
          "text": [
            "train Loss: 0.0001\n"
          ],
          "name": "stdout"
        },
        {
          "output_type": "stream",
          "text": [
            "\n",
            "100%|██████████| 149/149 [00:12<00:00, 11.70it/s]"
          ],
          "name": "stderr"
        },
        {
          "output_type": "stream",
          "text": [
            "val Loss: 0.0004\n",
            "Character error rate: 1.463324%. Word accuracy: 95.169336%.\n",
            "Epoch 55/59:\n"
          ],
          "name": "stdout"
        },
        {
          "output_type": "stream",
          "text": [
            "\n",
            "100%|██████████| 596/596 [02:27<00:00,  4.05it/s]"
          ],
          "name": "stderr"
        },
        {
          "output_type": "stream",
          "text": [
            "train Loss: 0.0001\n"
          ],
          "name": "stdout"
        },
        {
          "output_type": "stream",
          "text": [
            "\n",
            "100%|██████████| 149/149 [00:12<00:00, 11.70it/s]"
          ],
          "name": "stderr"
        },
        {
          "output_type": "stream",
          "text": [
            "val Loss: 0.0003\n",
            "Character error rate: 1.405728%. Word accuracy: 95.274350%.\n",
            "Epoch 56/59:\n"
          ],
          "name": "stdout"
        },
        {
          "output_type": "stream",
          "text": [
            "\n",
            "100%|██████████| 596/596 [02:26<00:00,  4.06it/s]"
          ],
          "name": "stderr"
        },
        {
          "output_type": "stream",
          "text": [
            "train Loss: 0.0001\n"
          ],
          "name": "stdout"
        },
        {
          "output_type": "stream",
          "text": [
            "\n",
            "100%|██████████| 149/149 [00:12<00:00, 11.72it/s]"
          ],
          "name": "stderr"
        },
        {
          "output_type": "stream",
          "text": [
            "val Loss: 0.0003\n",
            "Character error rate: 1.417443%. Word accuracy: 95.353111%.\n",
            "Epoch 57/59:\n"
          ],
          "name": "stdout"
        },
        {
          "output_type": "stream",
          "text": [
            "\n",
            "100%|██████████| 596/596 [02:26<00:00,  4.06it/s]"
          ],
          "name": "stderr"
        },
        {
          "output_type": "stream",
          "text": [
            "train Loss: 0.0001\n"
          ],
          "name": "stdout"
        },
        {
          "output_type": "stream",
          "text": [
            "\n",
            "100%|██████████| 149/149 [00:12<00:00, 11.70it/s]"
          ],
          "name": "stderr"
        },
        {
          "output_type": "stream",
          "text": [
            "val Loss: 0.0003\n",
            "Character error rate: 1.393038%. Word accuracy: 95.300604%.\n",
            "Epoch 58/59:\n"
          ],
          "name": "stdout"
        },
        {
          "output_type": "stream",
          "text": [
            "\n",
            "100%|██████████| 596/596 [02:26<00:00,  4.06it/s]"
          ],
          "name": "stderr"
        },
        {
          "output_type": "stream",
          "text": [
            "train Loss: 0.0001\n"
          ],
          "name": "stdout"
        },
        {
          "output_type": "stream",
          "text": [
            "\n",
            "100%|██████████| 149/149 [00:12<00:00, 11.64it/s]"
          ],
          "name": "stderr"
        },
        {
          "output_type": "stream",
          "text": [
            "val Loss: 0.0004\n",
            "Character error rate: 1.467229%. Word accuracy: 95.095826%.\n",
            "Epoch 59/59:\n"
          ],
          "name": "stdout"
        },
        {
          "output_type": "stream",
          "text": [
            "\n",
            "100%|██████████| 596/596 [02:26<00:00,  4.06it/s]"
          ],
          "name": "stderr"
        },
        {
          "output_type": "stream",
          "text": [
            "train Loss: 0.0001\n"
          ],
          "name": "stdout"
        },
        {
          "output_type": "stream",
          "text": [
            "\n",
            "100%|██████████| 149/149 [00:12<00:00, 11.65it/s]"
          ],
          "name": "stderr"
        },
        {
          "output_type": "stream",
          "text": [
            "val Loss: 0.0003\n"
          ],
          "name": "stdout"
        },
        {
          "output_type": "stream",
          "text": [
            "\n"
          ],
          "name": "stderr"
        },
        {
          "output_type": "stream",
          "text": [
            "Character error rate: 1.433062%. Word accuracy: 95.253347%.\n"
          ],
          "name": "stdout"
        }
      ]
    },
    {
      "cell_type": "code",
      "metadata": {
        "id": "80bNGejFt72y",
        "colab_type": "code",
        "colab": {
          "base_uri": "https://localhost:8080/",
          "height": 617
        },
        "outputId": "92171fe1-59bc-4398-c2a6-2ed70d66e3f3"
      },
      "source": [
        "from matplotlib import pyplot as plt\n",
        "import os\n",
        "%matplotlib inline\n",
        "\n",
        "# Show image using matplotlib  \n",
        "def show_image(img, size, colormap=0):\n",
        "    plt.figure(figsize=size)\n",
        "    plt.axis('off')\n",
        "    if colormap:\n",
        "        plt.imshow(img, cmap=colormap)\n",
        "    else:\n",
        "        plt.imshow(img)\n",
        "    plt.show()\n",
        "\n",
        "\n",
        "def test_transforms():\n",
        "\n",
        "    data_transform = transforms.Compose([\n",
        "        transforms.ToPILImage(),\n",
        "        transforms.Grayscale(),\n",
        "        transforms.RandomAffine((-5,5), fillcolor=255, translate=(0.25, 0), scale=(0.8, 1.2)),\n",
        "        # transforms.Resize((192, 32)),\n",
        "        #transforms.ToTensor()\n",
        "    ])\n",
        "    \n",
        "\n",
        "    transformed_dataset = TodoDataset('dataset', (32, 192), transform=data_transform)\n",
        "\n",
        "    for i in range(10):\n",
        "        sample = transformed_dataset[i]\n",
        "        show_image(sample[0], (5, 5), colormap='gray')\n",
        "\n",
        "test_transforms()"
      ],
      "execution_count": null,
      "outputs": [
        {
          "output_type": "display_data",
          "data": {
            "image/png": "[encoded data removed]",
            "text/plain": [
              "<Figure size 360x360 with 1 Axes>"
            ]
          },
          "metadata": {
            "tags": [],
            "needs_background": "light"
          }
        },
        {
          "output_type": "display_data",
          "data": {
            "image/png": "[encoded data removed]",
            "text/plain": [
              "<Figure size 360x360 with 1 Axes>"
            ]
          },
          "metadata": {
            "tags": [],
            "needs_background": "light"
          }
        },
        {
          "output_type": "display_data",
          "data": {
            "image/png": "[encoded data removed]",
            "text/plain": [
              "<Figure size 360x360 with 1 Axes>"
            ]
          },
          "metadata": {
            "tags": [],
            "needs_background": "light"
          }
        },
        {
          "output_type": "display_data",
          "data": {
            "image/png": "[encoded data removed]",
            "text/plain": [
              "<Figure size 360x360 with 1 Axes>"
            ]
          },
          "metadata": {
            "tags": [],
            "needs_background": "light"
          }
        },
        {
          "output_type": "display_data",
          "data": {
            "image/png": "[encoded data removed]",
            "text/plain": [
              "<Figure size 360x360 with 1 Axes>"
            ]
          },
          "metadata": {
            "tags": [],
            "needs_background": "light"
          }
        },
        {
          "output_type": "display_data",
          "data": {
            "image/png": "[encoded data removed]",
            "text/plain": [
              "<Figure size 360x360 with 1 Axes>"
            ]
          },
          "metadata": {
            "tags": [],
            "needs_background": "light"
          }
        },
        {
          "output_type": "display_data",
          "data": {
            "image/png": "[encoded data removed]",
            "text/plain": [
              "<Figure size 360x360 with 1 Axes>"
            ]
          },
          "metadata": {
            "tags": [],
            "needs_background": "light"
          }
        },
        {
          "output_type": "display_data",
          "data": {
            "image/png": "[encoded data removed]",
            "text/plain": [
              "<Figure size 360x360 with 1 Axes>"
            ]
          },
          "metadata": {
            "tags": [],
            "needs_background": "light"
          }
        },
        {
          "output_type": "display_data",
          "data": {
            "image/png": "[encoded data removed]",
            "text/plain": [
              "<Figure size 360x360 with 1 Axes>"
            ]
          },
          "metadata": {
            "tags": [],
            "needs_background": "light"
          }
        },
        {
          "output_type": "display_data",
          "data": {
            "image/png": "[encoded data removed]",
            "text/plain": [
              "<Figure size 360x360 with 1 Axes>"
            ]
          },
          "metadata": {
            "tags": [],
            "needs_background": "light"
          }
        }
      ]
    },
    {
      "cell_type": "code",
      "metadata": {
        "id": "hOxelvU2MjuM",
        "colab_type": "code",
        "colab": {
          "base_uri": "https://localhost:8080/",
          "height": 34
        },
        "outputId": "0a129588-2cc6-4329-af2c-f220976e7cc9"
      },
      "source": [
        "print(min(char_error), np.argmin(np.array(char_error)))"
      ],
      "execution_count": null,
      "outputs": [
        {
          "output_type": "stream",
          "text": [
            "0.011109158710634726 41\n"
          ],
          "name": "stdout"
        }
      ]
    },
    {
      "cell_type": "code",
      "metadata": {
        "id": "czAVkwkgMB0a",
        "colab_type": "code",
        "colab": {
          "base_uri": "https://localhost:8080/",
          "height": 868
        },
        "outputId": "e0f5eb35-5667-49ed-8393-d91d8a07202c"
      },
      "source": [
        "import matplotlib.pyplot as plt\n",
        "\n",
        "fig, axs = plt.subplots(2, 2, figsize=(20,20))\n",
        "axs[0][0].plot(train_loss)\n",
        "axs[0][0].set_title('train loss')\n",
        "axs[0][1].plot(val_loss)\n",
        "axs[0][1].set_title('val loss')\n",
        "axs[1][0].plot(char_error)\n",
        "axs[1][0].set_title('character error rate')\n",
        "axs[1][1].plot(word_acc)\n",
        "axs[1][1].set_title('word accuracy')"
      ],
      "execution_count": null,
      "outputs": [
        {
          "output_type": "execute_result",
          "data": {
            "text/plain": [
              "Text(0.5, 1.0, 'word accuracy')"
            ]
          },
          "metadata": {
            "tags": []
          },
          "execution_count": 12
        },
        {
          "output_type": "display_data",
          "data": {
            "image/png": "[encoded data removed]",
            "text/plain": [
              "<Figure size 1440x1440 with 4 Axes>"
            ]
          },
          "metadata": {
            "tags": [],
            "needs_background": "light"
          }
        }
      ]
    }
  ]
}