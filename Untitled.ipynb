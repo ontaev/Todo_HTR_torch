{
 "cells": [
  {
   "cell_type": "code",
   "execution_count": 4,
   "metadata": {},
   "outputs": [],
   "source": [
    "import cv2 as cv\n",
    "import numpy as np\n",
    "from matplotlib import pyplot as plt\n",
    "%matplotlib inline"
   ]
  },
  {
   "cell_type": "code",
   "execution_count": 14,
   "metadata": {},
   "outputs": [],
   "source": [
    "# Show image using matplotlib  \n",
    "def show_image(img, size, colormap=0):\n",
    "    plt.figure(figsize=size)\n",
    "    plt.axis('off')\n",
    "    if colormap:\n",
    "        plt.imshow(img, cmap=colormap)\n",
    "    else:\n",
    "        plt.imshow(img)\n",
    "    plt.show()"
   ]
  },
  {
   "cell_type": "code",
   "execution_count": 51,
   "metadata": {},
   "outputs": [],
   "source": [
    "def resize_image(image, image_size):\n",
    "        # transpose vertical Todo image\n",
    "        #image = cv.transpose(image)\n",
    "\n",
    "        # create target image and copy sample image into it\n",
    "        (wt, ht) = image_size\n",
    "        print('old size', image.shape)\n",
    "        (h, w, _) = image.shape\n",
    "        fx = w / wt\n",
    "        fy = h / ht\n",
    "        f = max(fx, fy)\n",
    "        newSize = (max(min(wt, int(w / f)), 1), max(min(ht, int(h / f)), 1)) # scale according to f (result at least 1 and at most wt or ht)\n",
    "        img = cv.resize(image, newSize)\n",
    "        show_image(img, (5,10))\n",
    "        #print(image)\n",
    "        #print('new size',img.shape)\n",
    "        target = np.ones([ht, wt, 3]) * 100\n",
    "        #print(target)\n",
    "        show_image(target, (5,10))\n",
    "        #print('target', target.shape)\n",
    "        target[0:newSize[1], 0:newSize[0], :] = img\n",
    "        #print(target.astype(int))\n",
    "        show_image(target.astype(int), (5,10))\n",
    "        image = cv.transpose(target)\n",
    "\n",
    "      \n",
    "        return image"
   ]
  },
  {
   "cell_type": "code",
   "execution_count": 52,
   "metadata": {},
   "outputs": [
    {
     "name": "stdout",
     "output_type": "stream",
     "text": [
      "old size (35, 42, 3)\n"
     ]
    },
    {
     "data": {
      "image/png": "[encoded data removed]",
      "text/plain": [
       "<Figure size 360x720 with 1 Axes>"
      ]
     },
     "metadata": {
      "needs_background": "light"
     },
     "output_type": "display_data"
    },
    {
     "name": "stderr",
     "output_type": "stream",
     "text": [
      "Clipping input data to the valid range for imshow with RGB data ([0..1] for floats or [0..255] for integers).\n"
     ]
    },
    {
     "data": {
      "image/png": "[encoded data removed]",
      "text/plain": [
       "<Figure size 360x720 with 1 Axes>"
      ]
     },
     "metadata": {
      "needs_background": "light"
     },
     "output_type": "display_data"
    },
    {
     "data": {
      "image/png": "[encoded data removed]",
      "text/plain": [
       "<Figure size 360x720 with 1 Axes>"
      ]
     },
     "metadata": {
      "needs_background": "light"
     },
     "output_type": "display_data"
    }
   ],
   "source": [
    "image = resize_image(image=cv.imread('DATASET/words/098r_0_2.jpg'), image_size=(32, 192))"
   ]
  },
  {
   "cell_type": "code",
   "execution_count": null,
   "metadata": {},
   "outputs": [],
   "source": []
  },
  {
   "cell_type": "code",
   "execution_count": null,
   "metadata": {},
   "outputs": [],
   "source": []
  }
 ],
 "metadata": {
  "kernelspec": {
   "display_name": "python3.7",
   "language": "python",
   "name": "python3.7"
  },
  "language_info": {
   "codemirror_mode": {
    "name": "ipython",
    "version": 3
   },
   "file_extension": ".py",
   "mimetype": "text/x-python",
   "name": "python",
   "nbconvert_exporter": "python",
   "pygments_lexer": "ipython3",
   "version": "3.7.1"
  }
 },
 "nbformat": 4,
 "nbformat_minor": 2
}
